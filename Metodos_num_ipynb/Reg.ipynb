{
  "cells": [
    {
      "attachments": {},
      "cell_type": "markdown",
      "metadata": {
        "id": "drxXM7wApmVP"
      },
      "source": [
        "Realizado por: Cesar Quintero"
      ]
    },
    {
      "cell_type": "code",
      "execution_count": 2,
      "metadata": {
        "id": "W-HzCWmShDUG"
      },
      "outputs": [],
      "source": [
        "# importando librerias:\n",
        "\n",
        "import numpy as np\n",
        "import matplotlib.pyplot as plt\n"
      ]
    },
    {
      "cell_type": "code",
      "execution_count": 3,
      "metadata": {
        "id": "Y2n0ma4oivXM"
      },
      "outputs": [],
      "source": [
        "# función:\n",
        "\n",
        "def regress(x,y,n):\n",
        "  sumx = 0\n",
        "  sumxy =0\n",
        "  st =0\n",
        "  sumy =0\n",
        "  sumx2=0\n",
        "  sr =0\n",
        "\n",
        "  for i in range(n):\n",
        "    sumx = sumx + x[i]\n",
        "    sumy = sumy + y[i]\n",
        "    sumxy = sumxy + x[i]*y[i]\n",
        "    sumx2 = sumx2 + x[i]*x[i]\n",
        "\n",
        "  promx = sumx / n\n",
        "  promy = sumy / n\n",
        "  a1 = (n*sumxy - sumx*sumy)\n",
        "  a0 = promy - a1*promx\n",
        "\n",
        "  for i in range(n):\n",
        "    st = st + (y[i] - promy)**2\n",
        "    sr = sr + (y[i] - a1*x[i] -a0)**2\n",
        "\n",
        "    syx = (sr/(n-2))**0.5\n",
        "    r2 = (st - sr) / st\n",
        "\n",
        "  return a1, a0, syx, r2\n"
      ]
    },
    {
      "cell_type": "code",
      "execution_count": 4,
      "metadata": {
        "id": "C8ebCM07ivOw"
      },
      "outputs": [],
      "source": [
        "# Datos punto E:\n",
        "n = 9\n",
        "x=[3,4,6,7,10,11,14,17,20]\n",
        "y=[1,2,5,2,8,7,6,9,14]"
      ]
    },
    {
      "cell_type": "code",
      "execution_count": 5,
      "metadata": {
        "colab": {
          "base_uri": "https://localhost:8080/"
        },
        "id": "RUWNZxrYivGy",
        "outputId": "3b01ae17-3138-4081-92ca-f9c1a9e35377"
      },
      "outputs": [
        {
          "name": "stdout",
          "output_type": "stream",
          "text": [
            "a1: 1593\n",
            "a0: -16277.999999999998\n",
            "syx: 9990.70635283469\n",
            "r2 -5137495.279411765\n"
          ]
        }
      ],
      "source": [
        "# imprime los datos:\n",
        "a1, a0, syx, r2 = regress(x,y,n)\n",
        "\n",
        "print(\"a1:\",a1)\n",
        "print(\"a0:\",a0)\n",
        "print(\"syx:\",syx)\n",
        "print(\"r2\",r2)\n",
        "\n"
      ]
    },
    {
      "cell_type": "markdown",
      "metadata": {
        "id": "Y9pV0wFlm0i5"
      },
      "source": [
        "*Datos*\n",
        "- Pendiente: 1593\n",
        "- Intersección: -16277.99\n",
        "- Error estandar: 9990.70\n"
      ]
    },
    {
      "cell_type": "code",
      "execution_count": 7,
      "metadata": {
        "colab": {
          "base_uri": "https://localhost:8080/"
        },
        "id": "SzXXeVG2ivAh",
        "outputId": "c1fc917c-ed94-4256-fcf0-08bb4b8caddf"
      },
      "outputs": [
        {
          "name": "stdout",
          "output_type": "stream",
          "text": [
            " \n",
            "1593 x - 1.628e+04\n"
          ]
        }
      ],
      "source": [
        "# Línea de ajuste:\n",
        "t = np.poly1d([a1,a0])\n",
        "print(t)\n",
        "\n"
      ]
    },
    {
      "cell_type": "code",
      "execution_count": 9,
      "metadata": {
        "colab": {
          "base_uri": "https://localhost:8080/",
          "height": 264
        },
        "id": "CNE8uBPDiu_F",
        "outputId": "8964ee13-1607-49f2-f54b-69392186ae0d"
      },
      "outputs": [
        {
          "data": {
            "image/png": "[encoded data removed]",
            "text/plain": [
              "<Figure size 432x288 with 1 Axes>"
            ]
          },
          "metadata": {
            "needs_background": "light",
            "tags": []
          },
          "output_type": "display_data"
        }
      ],
      "source": [
        "# Los puntos a graficar:\n",
        "\n",
        "x=np.array(x)\n",
        "y=np.array(y)\n",
        "plt.plot(x,y,'*')\n",
        "plt.grid()\n",
        "plt.show()"
      ]
    },
    {
      "cell_type": "code",
      "execution_count": 11,
      "metadata": {
        "colab": {
          "base_uri": "https://localhost:8080/",
          "height": 264
        },
        "id": "QiDoxzN_iu48",
        "outputId": "4a148b30-5742-4961-96cc-aca6a7638305"
      },
      "outputs": [
        {
          "data": {
            "image/png": "[encoded data removed]",
            "text/plain": [
              "<Figure size 432x288 with 1 Axes>"
            ]
          },
          "metadata": {
            "needs_background": "light",
            "tags": []
          },
          "output_type": "display_data"
        }
      ],
      "source": [
        "# recta de ajuste:\n",
        "\n",
        "plt.plot(x, a1*x+a0, label=\"ajuste\")\n",
        "plt.grid()\n",
        "plt.show()"
      ]
    }
  ],
  "metadata": {
    "colab": {
      "collapsed_sections": [],
      "name": "Metodos_numericos4.ipynb",
      "provenance": []
    },
    "kernelspec": {
      "display_name": "Python 3",
      "name": "python3"
    },
    "language_info": {
      "name": "python"
    }
  },
  "nbformat": 4,
  "nbformat_minor": 0
}

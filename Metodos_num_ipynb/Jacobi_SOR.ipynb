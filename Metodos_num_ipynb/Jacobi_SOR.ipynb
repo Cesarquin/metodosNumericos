{
  "cells": [
    {
      "attachments": {},
      "cell_type": "markdown",
      "metadata": {
        "id": "JCR-dW8LfQI5"
      },
      "source": [
        "Realizado por: Cesar Quintero"
      ]
    },
    {
      "cell_type": "code",
      "execution_count": null,
      "metadata": {
        "id": "GSQrkZAvtHuH"
      },
      "outputs": [],
      "source": [
        "# Se importa la librería para trabajo con arreglos:\n",
        "import  numpy as np\n",
        "n = 10  # dimensión de la matriz\n",
        "\n",
        "# La función random de la librería numpy, permite crear números aleatorios.\n",
        "\n",
        "A = np.random.rand(n, n)  # se crea una matriz nxn de números aleatorios.\n",
        "b = np.random.rand(n) # se crea un vector de variables independientes.\n",
        "\n",
        "alpha = 3* n # factor de incremento.\n",
        "# A continuación, se crea una matriz ADD, en la cual se asegura que sea diagonal \n",
        "# dominante, de la siguiente manera: Al multiplicar A por su traspuesta, se obtiene\n",
        "# una matriz inicial que tiene valores diagonales mayores, pero para asegurar que sea\n",
        "# diagonal dominante, se suma un factor de incremento 'alpha' a la diagonal principal.\n",
        "ADD = np.dot(A, A.T) + alpha * np.identity(n)\n",
        "\n",
        "# se iguala A, a la matriz domiante:\n",
        "A = ADD"
      ]
    },
    {
      "cell_type": "code",
      "execution_count": null,
      "metadata": {
        "id": "Whi62qkt7UvR"
      },
      "outputs": [],
      "source": [
        "# se halla el determinante:\n",
        "determ = np.linalg.det(A)"
      ]
    },
    {
      "cell_type": "code",
      "execution_count": null,
      "metadata": {
        "colab": {
          "base_uri": "https://localhost:8080/"
        },
        "id": "yTLeFFWc7jhe",
        "outputId": "0bad1c73-a9e0-451a-c29c-b2732c4fdba6"
      },
      "outputs": [
        {
          "name": "stdout",
          "output_type": "stream",
          "text": [
            "La fila 0  es diagonal dominate. \n",
            "La fila 1  es diagonal dominate. \n",
            "La fila 2  es diagonal dominate. \n",
            "La fila 3  es diagonal dominate. \n",
            "La fila 4  es diagonal dominate. \n",
            "La fila 5  es diagonal dominate. \n",
            "La fila 6  es diagonal dominate. \n",
            "La fila 7  es diagonal dominate. \n",
            "La fila 8  es diagonal dominate. \n",
            "La fila 9  es diagonal dominate. \n",
            "La matriz es diagonal dominante y el método va a converger. \n"
          ]
        }
      ],
      "source": [
        "# Comprobar la diagonal dominante\n",
        "n = len(b)\n",
        "count = 0\n",
        "for i in range(n):\n",
        "  Aii = A[i][i]\n",
        "  suma = 0\n",
        "  for j in range(n):\n",
        "    if i != j:\n",
        "      suma = suma + abs(A[i][j])\n",
        "  if Aii > suma:\n",
        "    print(\"La fila\", i, \" es diagonal dominate. \")\n",
        "    count += 1\n",
        "  else:\n",
        "    print(\"La fila\", i, \" es NO diagonal dominate. \")\n",
        "    break\n",
        "if count == n:\n",
        "  print(\"La matriz es diagonal dominante y el método va a converger. \")\n",
        "else:\n",
        "  print(\"La matriz No es diagonal dominante, por tanto el método NO va a converger. \")\n"
      ]
    },
    {
      "cell_type": "code",
      "execution_count": null,
      "metadata": {
        "colab": {
          "base_uri": "https://localhost:8080/"
        },
        "id": "pAeH5pC9QXnt",
        "outputId": "23da5a0c-7558-46c5-9439-2b73d448d7b9"
      },
      "outputs": [
        {
          "name": "stdout",
          "output_type": "stream",
          "text": [
            "Iteración: 0\n",
            "[ 0.01778399  0.01157825  0.01559455  0.02329155  0.00260177  0.01694815\n",
            "  0.01722718  0.01562299 -0.00260182  0.00118142]\n",
            "Error en la iteración 0 es:  0.04559649137531135\n",
            "Iteración: 1\n",
            "[ 1.02506734e-02  2.64028665e-03  1.02125347e-02  1.98122305e-02\n",
            " -1.20160226e-05  1.62986006e-02  1.90137979e-02  1.74474947e-02\n",
            " -1.44474513e-03  3.25638645e-03]\n",
            "Error en la iteración 1 es:  0.014040250481961614\n",
            "Iteración: 2\n",
            "[ 0.01145444  0.00315666  0.01015816  0.01940908 -0.0005885   0.01561238\n",
            "  0.01863117  0.01735056 -0.00148229  0.00331653]\n",
            "Error en la iteración 2 es:  0.0016867808287591426\n",
            "Iteración: 3\n",
            "[ 0.01158279  0.0033922   0.01032546  0.01954672 -0.00052631  0.01558924\n",
            "  0.01855951  0.0173068  -0.00151544  0.0032673 ]\n",
            "Error en la iteración 3 es:  0.0003658717880860007\n",
            "Iteración: 4\n",
            "[ 0.01155136  0.00337954  0.010329    0.0195647  -0.00050533  0.0156079\n",
            "  0.01856694  0.0173081  -0.00151548  0.00326467]\n",
            "Error en la iteración 4 es:  4.833082562108153e-05\n",
            "Iteración: 5\n",
            "[ 0.0115471   0.00337232  0.01032399  0.01956123 -0.0005063   0.01560927\n",
            "  0.01856917  0.01730936 -0.00151456  0.003266  ]\n",
            "Error en la iteración 5 es:  1.092873331459377e-05\n",
            "Iteración: 6\n",
            "[ 0.01154789  0.00337247  0.01032372  0.01956059 -0.00050694  0.01560879\n",
            "  0.01856902  0.01730936 -0.00151453  0.00326612]\n",
            "Error en la iteración 6 es:  1.341828568859071e-06\n",
            "Iteración: 7\n",
            "[ 0.01154804  0.00337268  0.01032386  0.01956067 -0.00050693  0.01560874\n",
            "  0.01856896  0.01730932 -0.00151455  0.00326608]\n",
            "Error en la iteración 7 es:  3.1992577013667225e-07\n"
          ]
        }
      ],
      "source": [
        "# valores iniciales\n",
        "tol = 1e-6  # tolerancia\n",
        "error = 100000 \n",
        "nitermax = 100\n",
        "n = len(A)\n",
        "x = np.zeros(n)\n",
        "x1 = np.zeros(n)\n",
        "niter = 0  # contador inicial iteraciones\n",
        "Niter = []\n",
        "Error = []\n",
        "\n",
        "# Programación del método:\n",
        "while niter < nitermax and error > tol:\n",
        "  for i in range(n):  # redorre filas\n",
        "    d = b[i]\n",
        "    for j in range(n):  # recorre columnas\n",
        "      if i != j:\n",
        "        d = d - A[i][j] * x[j]\n",
        "    x[i] = d / A[i][i]\n",
        "\n",
        "# Elementos adicionales:\n",
        "  error = np.linalg.norm(x-x1)  # cálculo de la norma vector\n",
        "  x1 = np.copy(x)   #  actualiza vector solución iteración anterior\n",
        "\n",
        "  print(\"Iteración:\", niter)\n",
        "  print(x)\n",
        "  print(\"Error en la iteración\", niter,\"es: \",error)\n",
        "\n",
        "  niter += 1\n",
        "  Niter.append(niter)\n",
        "  Error.append(error)\n",
        "\n"
      ]
    },
    {
      "cell_type": "code",
      "execution_count": null,
      "metadata": {
        "colab": {
          "base_uri": "https://localhost:8080/"
        },
        "id": "ImdYGpuxOPvK",
        "outputId": "10c53c3f-c771-4585-a271-81a2732b3f0f"
      },
      "outputs": [
        {
          "name": "stdout",
          "output_type": "stream",
          "text": [
            "[1, 2, 3, 4, 5, 6, 7, 8]\n",
            "[0.04559649137531135, 0.014040250481961614, 0.0016867808287591426, 0.0003658717880860007, 4.833082562108153e-05, 1.092873331459377e-05, 1.341828568859071e-06, 3.1992577013667225e-07]\n"
          ]
        }
      ],
      "source": [
        "print(Niter)\n",
        "print(Error)"
      ]
    },
    {
      "cell_type": "code",
      "execution_count": null,
      "metadata": {
        "colab": {
          "base_uri": "https://localhost:8080/",
          "height": 294
        },
        "id": "wWCC8kf8OPfp",
        "outputId": "ff9baa8c-8dbf-4191-b5b4-14a01ba7c9ce"
      },
      "outputs": [
        {
          "data": {
            "image/png": "[encoded data removed]",
            "text/plain": [
              "<Figure size 432x288 with 1 Axes>"
            ]
          },
          "metadata": {
            "needs_background": "light",
            "tags": []
          },
          "output_type": "display_data"
        }
      ],
      "source": [
        "# Grafica del error Jacobi\n",
        "\n",
        "import matplotlib.pyplot as plt\n",
        "\n",
        "x = Niter\n",
        "y = Error\n",
        "\n",
        "plt.plot(x, y, label=\"line L\")\n",
        "plt.plot()\n",
        "\n",
        "plt.xlabel(\"eje X\")\n",
        "plt.ylabel(\"eje Y\")\n",
        "plt.title(\"Gráfico línea\")\n",
        "plt.legend()\n",
        "plt.show()\n"
      ]
    },
    {
      "cell_type": "code",
      "execution_count": null,
      "metadata": {
        "id": "whn1cR2lOPUt"
      },
      "outputs": [],
      "source": [
        "# Método de SOR\n",
        "\n",
        "def SOR(A,b,x,imax,es,omega):\n",
        "  n = len(x)\n",
        "  for i in range(n):\n",
        "    dummy = A[i][i]\n",
        "    for j in range(n):\n",
        "      A[i][j] = A[i][j] / dummy\n",
        "\n",
        "    b[i] = b[i] / dummy\n",
        "\n",
        "  for i in range(n):\n",
        "    sum = b[i]\n",
        "    for j in range(n):\n",
        "      if i != j:\n",
        "        sum -= A[i][j] * x[j]\n",
        "    x[i] = sum\n",
        "\n",
        "  iter = 1\n",
        "\n",
        "\n",
        "  while iter <= imax or ea > tol:\n",
        "    centinela = 1\n",
        "    for i in range(n):\n",
        "      old = x[i]\n",
        "      sum = b[i]\n",
        "      for j in range(n):\n",
        "        if i != j:\n",
        "          sum -= A[i][j] * x[j]\n",
        "\n",
        "      x[i] = omega * sum + (1-omega) * old\n",
        "      if centinela == 1 and x[i] != 0:\n",
        "        ea = abs((x[i] - old) / x[i]) *100\n",
        "        if ea > tol:\n",
        "          centinela = 0\n",
        "\n",
        "    print(iter)\n",
        "    print(x)\n",
        "    iter += 1\n",
        "    if centinela == 1 or iter >= imax:\n",
        "      break\n",
        "  return x\n",
        "\n"
      ]
    },
    {
      "cell_type": "code",
      "execution_count": null,
      "metadata": {
        "colab": {
          "base_uri": "https://localhost:8080/"
        },
        "id": "vR36Sh4ROPGi",
        "outputId": "32a89842-3a2b-4d6d-b5b3-f43d176a3a41"
      },
      "outputs": [
        {
          "name": "stdout",
          "output_type": "stream",
          "text": [
            "1\n",
            "[ 1.02506734e-02  2.64028665e-03  1.02125347e-02  1.98122305e-02\n",
            " -1.20160226e-05  1.62986006e-02  1.90137979e-02  1.74474947e-02\n",
            " -1.44474513e-03  3.25638645e-03]\n",
            "2\n",
            "[ 0.01145444  0.00315666  0.01015816  0.01940908 -0.0005885   0.01561238\n",
            "  0.01863117  0.01735056 -0.00148229  0.00331653]\n",
            "3\n",
            "[ 0.01158279  0.0033922   0.01032546  0.01954672 -0.00052631  0.01558924\n",
            "  0.01855951  0.0173068  -0.00151544  0.0032673 ]\n",
            "4\n",
            "[ 0.01155136  0.00337954  0.010329    0.0195647  -0.00050533  0.0156079\n",
            "  0.01856694  0.0173081  -0.00151548  0.00326467]\n",
            "5\n",
            "[ 0.0115471   0.00337232  0.01032399  0.01956123 -0.0005063   0.01560927\n",
            "  0.01856917  0.01730936 -0.00151456  0.003266  ]\n",
            "6\n",
            "[ 0.01154789  0.00337247  0.01032372  0.01956059 -0.00050694  0.01560879\n",
            "  0.01856902  0.01730936 -0.00151453  0.00326612]\n",
            "7\n",
            "[ 0.01154804  0.00337268  0.01032386  0.01956067 -0.00050693  0.01560874\n",
            "  0.01856896  0.01730932 -0.00151455  0.00326608]\n",
            "8\n",
            "[ 0.01154802  0.00337268  0.01032387  0.01956069 -0.00050691  0.01560875\n",
            "  0.01856896  0.01730932 -0.00151456  0.00326608]\n",
            "9\n",
            "[ 0.01154801  0.00337268  0.01032387  0.01956069 -0.00050691  0.01560875\n",
            "  0.01856896  0.01730932 -0.00151455  0.00326608]\n",
            "10\n",
            "[ 0.01154801  0.00337268  0.01032387  0.01956069 -0.00050691  0.01560875\n",
            "  0.01856896  0.01730932 -0.00151455  0.00326608]\n",
            "11\n",
            "[ 0.01154801  0.00337268  0.01032387  0.01956069 -0.00050691  0.01560875\n",
            "  0.01856896  0.01730932 -0.00151455  0.00326608]\n"
          ]
        }
      ],
      "source": [
        "# Llamado a G-S:\n",
        "\n",
        "x = np.zeros(len(A))\n",
        "imax = 100\n",
        "tol = 1e-5\n",
        "omega = 1  # omega = 1 es G-S\n",
        "\n",
        "SOR(A, b, x, imax, tol, omega);\n"
      ]
    },
    {
      "cell_type": "markdown",
      "metadata": {
        "id": "COmdCg6iYgn3"
      },
      "source": [
        "En el método de G-S se encontraron 11 iteraciones. El resultado de las 10 variables diferentes se observa en la variable 'x' que retorna la función SOR."
      ]
    },
    {
      "cell_type": "code",
      "execution_count": null,
      "metadata": {
        "colab": {
          "base_uri": "https://localhost:8080/"
        },
        "id": "JQhzXxN-XnSv",
        "outputId": "76b91c06-f2d3-412d-8446-269ed4758749"
      },
      "outputs": [
        {
          "name": "stdout",
          "output_type": "stream",
          "text": [
            "1\n",
            "[ 0.01552399  0.00877722  0.01369387  0.02185196  0.00133926  0.01619541\n",
            "  0.0171903   0.0158604  -0.0024612   0.00144172]\n",
            "2\n",
            "[ 0.01412249  0.00700063  0.01252733  0.02101026  0.0006168   0.01583678\n",
            "  0.01735057  0.01614521 -0.00227769  0.00177111]\n",
            "3\n",
            "[ 0.01323757  0.0058477   0.01179379  0.02050488  0.0001949   0.01567416\n",
            "  0.01756692  0.01640954 -0.00210354  0.00208638]\n",
            "4\n",
            "[ 1.26694741e-02  5.08376254e-03  1.13215424e-02  2.01924920e-02\n",
            " -5.72212766e-05  1.56065999e-02  1.77776181e-02  1.66304988e-02\n",
            " -1.95697627e-03  2.35682423e-03]\n",
            "5\n",
            "[ 0.01229935  0.00456828  0.01101082  0.01999352 -0.00021169  0.01558337\n",
            "  0.01795945  0.01680531 -0.001841    0.00257604]\n",
            "6\n",
            "[ 0.01205514  0.00421507  0.0108024   0.01986307 -0.00030882  0.0155795\n",
            "  0.01810709  0.01693915 -0.00175251  0.0027479 ]\n",
            "7\n",
            "[ 0.01189229  0.00397003  0.01066027  0.01977523 -0.00037145  0.01558309\n",
            "  0.01822278  0.01703949 -0.00168653  0.00287981]\n",
            "8\n",
            "[ 0.01178275  0.00379832  0.01056204  0.01971474 -0.0004128   0.01558872\n",
            "  0.01831146  0.01711367 -0.00163809  0.00297966]\n",
            "9\n",
            "[ 0.01170857  0.00367708  0.0104934   0.01967227 -0.0004407   0.01559416\n",
            "  0.01837844  0.01716799 -0.00160291  0.00305451]\n",
            "10\n",
            "[ 0.01165808  0.00359095  0.01044503  0.01964203 -0.00045986  0.01559863\n",
            "  0.01842853  0.01720749 -0.00157754  0.00311024]\n",
            "11\n",
            "[ 0.01162357  0.0035295   0.01041072  0.01962025 -0.00047321  0.01560202\n",
            "  0.01846573  0.01723609 -0.00155936  0.00315153]\n",
            "12\n",
            "[ 0.01159992  0.00348552  0.01038626  0.01960443 -0.00048263  0.01560446\n",
            "  0.01849323  0.01725672 -0.00154637  0.00318202]\n",
            "13\n",
            "[ 0.01158368  0.00345395  0.01036877  0.01959288 -0.00048934  0.01560614\n",
            "  0.01851348  0.01727158 -0.00153712  0.00320447]\n",
            "14\n",
            "[ 0.01157251  0.00343125  0.01035621  0.0195844  -0.00049416  0.01560726\n",
            "  0.01852836  0.01728225 -0.00153055  0.00322097]\n",
            "15\n",
            "[ 0.01156483  0.00341492  0.01034719  0.01957817 -0.00049763  0.01560799\n",
            "  0.01853927  0.01728991 -0.00152588  0.00323308]\n",
            "16\n",
            "[ 0.01155955  0.00340315  0.01034069  0.01957358 -0.00050014  0.01560844\n",
            "  0.01854727  0.01729541 -0.00152257  0.00324196]\n",
            "17\n",
            "[ 0.01155592  0.00339466  0.01033601  0.01957019 -0.00050197  0.01560871\n",
            "  0.01855311  0.01729935 -0.00152023  0.00324845]\n",
            "18\n",
            "[ 0.01155342  0.00338854  0.01033263  0.0195677  -0.0005033   0.01560886\n",
            "  0.01855739  0.01730217 -0.00151857  0.00325321]\n",
            "19\n",
            "[ 0.0115517   0.00338413  0.01033019  0.01956585 -0.00050427  0.01560893\n",
            "  0.01856051  0.0173042  -0.0015174   0.00325668]\n",
            "20\n",
            "[ 0.01155053  0.00338094  0.01032844  0.01956449 -0.00050498  0.01560895\n",
            "  0.0185628   0.01730565 -0.00151657  0.00325922]\n",
            "21\n",
            "[ 0.01154972  0.00337864  0.01032717  0.01956349 -0.0005055   0.01560895\n",
            "  0.01856446  0.01730669 -0.00151598  0.00326108]\n",
            "22\n",
            "[ 0.01154917  0.00337698  0.01032625  0.01956275 -0.00050588  0.01560894\n",
            "  0.01856568  0.01730743 -0.00151556  0.00326243]\n",
            "23\n",
            "[ 0.0115488   0.00337578  0.01032559  0.0195622  -0.00050615  0.01560892\n",
            "  0.01856657  0.01730797 -0.00151527  0.00326342]\n",
            "24\n",
            "[ 0.01154854  0.00337492  0.01032511  0.0195618  -0.00050636  0.01560889\n",
            "  0.01856721  0.01730835 -0.00151506  0.00326414]\n",
            "25\n",
            "[ 0.01154837  0.00337429  0.01032476  0.01956151 -0.0005065   0.01560887\n",
            "  0.01856769  0.01730862 -0.00151491  0.00326467]\n",
            "26\n",
            "[ 0.01154825  0.00337384  0.01032451  0.01956129 -0.00050661  0.01560885\n",
            "  0.01856803  0.01730882 -0.00151481  0.00326505]\n",
            "27\n",
            "[ 0.01154817  0.00337352  0.01032433  0.01956113 -0.00050669  0.01560883\n",
            "  0.01856828  0.01730896 -0.00151473  0.00326533]\n",
            "28\n",
            "[ 0.01154812  0.00337328  0.0103242   0.01956101 -0.00050675  0.01560882\n",
            "  0.01856847  0.01730906 -0.00151468  0.00326553]\n",
            "29\n",
            "[ 0.01154808  0.00337312  0.01032411  0.01956092 -0.00050679  0.0156088\n",
            "  0.0185686   0.01730914 -0.00151464  0.00326568]\n",
            "30\n",
            "[ 0.01154806  0.00337299  0.01032404  0.01956086 -0.00050683  0.01560879\n",
            "  0.0185687   0.01730919 -0.00151462  0.00326579]\n",
            "31\n",
            "[ 0.01154804  0.00337291  0.01032399  0.01956081 -0.00050685  0.01560878\n",
            "  0.01856877  0.01730923 -0.0015146   0.00326587]\n",
            "32\n",
            "[ 0.01154803  0.00337284  0.01032396  0.01956078 -0.00050687  0.01560878\n",
            "  0.01856882  0.01730925 -0.00151459  0.00326593]\n",
            "33\n",
            "[ 0.01154803  0.0033728   0.01032393  0.01956075 -0.00050688  0.01560877\n",
            "  0.01856886  0.01730927 -0.00151458  0.00326597]\n",
            "34\n",
            "[ 0.01154802  0.00337276  0.01032392  0.01956074 -0.00050689  0.01560877\n",
            "  0.01856889  0.01730929 -0.00151457  0.003266  ]\n",
            "35\n",
            "[ 0.01154802  0.00337274  0.0103239   0.01956072 -0.00050689  0.01560876\n",
            "  0.01856891  0.0173093  -0.00151457  0.00326602]\n",
            "36\n",
            "[ 0.01154802  0.00337272  0.01032389  0.01956071 -0.0005069   0.01560876\n",
            "  0.01856892  0.0173093  -0.00151456  0.00326604]\n",
            "37\n",
            "[ 0.01154802  0.00337271  0.01032389  0.01956071 -0.0005069   0.01560876\n",
            "  0.01856893  0.01730931 -0.00151456  0.00326605]\n",
            "38\n",
            "[ 0.01154802  0.0033727   0.01032388  0.0195607  -0.0005069   0.01560876\n",
            "  0.01856894  0.01730931 -0.00151456  0.00326606]\n",
            "39\n",
            "[ 0.01154802  0.00337269  0.01032388  0.0195607  -0.00050691  0.01560876\n",
            "  0.01856895  0.01730932 -0.00151456  0.00326606]\n",
            "40\n",
            "[ 0.01154801  0.00337269  0.01032388  0.01956069 -0.00050691  0.01560875\n",
            "  0.01856895  0.01730932 -0.00151456  0.00326607]\n",
            "41\n",
            "[ 0.01154801  0.00337269  0.01032387  0.01956069 -0.00050691  0.01560875\n",
            "  0.01856895  0.01730932 -0.00151456  0.00326607]\n",
            "42\n",
            "[ 0.01154801  0.00337268  0.01032387  0.01956069 -0.00050691  0.01560875\n",
            "  0.01856895  0.01730932 -0.00151456  0.00326607]\n",
            "43\n",
            "[ 0.01154801  0.00337268  0.01032387  0.01956069 -0.00050691  0.01560875\n",
            "  0.01856896  0.01730932 -0.00151456  0.00326607]\n",
            "44\n",
            "[ 0.01154801  0.00337268  0.01032387  0.01956069 -0.00050691  0.01560875\n",
            "  0.01856896  0.01730932 -0.00151456  0.00326608]\n",
            "45\n",
            "[ 0.01154801  0.00337268  0.01032387  0.01956069 -0.00050691  0.01560875\n",
            "  0.01856896  0.01730932 -0.00151456  0.00326608]\n",
            "46\n",
            "[ 0.01154801  0.00337268  0.01032387  0.01956069 -0.00050691  0.01560875\n",
            "  0.01856896  0.01730932 -0.00151455  0.00326608]\n",
            "47\n",
            "[ 0.01154801  0.00337268  0.01032387  0.01956069 -0.00050691  0.01560875\n",
            "  0.01856896  0.01730932 -0.00151455  0.00326608]\n",
            "48\n",
            "[ 0.01154801  0.00337268  0.01032387  0.01956069 -0.00050691  0.01560875\n",
            "  0.01856896  0.01730932 -0.00151455  0.00326608]\n",
            "49\n",
            "[ 0.01154801  0.00337268  0.01032387  0.01956069 -0.00050691  0.01560875\n",
            "  0.01856896  0.01730932 -0.00151455  0.00326608]\n",
            "50\n",
            "[ 0.01154801  0.00337268  0.01032387  0.01956069 -0.00050691  0.01560875\n",
            "  0.01856896  0.01730932 -0.00151455  0.00326608]\n",
            "51\n",
            "[ 0.01154801  0.00337268  0.01032387  0.01956069 -0.00050691  0.01560875\n",
            "  0.01856896  0.01730932 -0.00151455  0.00326608]\n"
          ]
        }
      ],
      "source": [
        "# Llamado a SOR:\n",
        "\n",
        "x = np.zeros(len(A))\n",
        "imax = 100\n",
        "tol = 1e-5\n",
        "omega = 0.3  # omega != 1 y entre 0 y 2 es SOR\n",
        "\n",
        "SOR(A, b, x, imax, tol, omega);\n"
      ]
    },
    {
      "cell_type": "markdown",
      "metadata": {
        "id": "Hc2S82NbYlXY"
      },
      "source": [
        "El método de SOR realizó 51 iteraciones, sin embargo se puede contrastar con el método de G-S, donde los valores de la variable 'x', tiene igualdad con el resultado obtenido anteriormente."
      ]
    },
    {
      "cell_type": "markdown",
      "metadata": {
        "id": "TY4Mze81YLZM"
      },
      "source": [
        "# Final.\n",
        "\n",
        "## Análisis de resultados.\n",
        "\n",
        "Determinar si el SEL tiene, o no, solución. ¿Si la tiene, es única?\n",
        "Realice una breve explicación basándose en la teoría revisada.\n",
        "- El sistema si tiene solución unica, ya que la matriz obtenida es DD.\n",
        "\n",
        "Determinar si la matriz es Diagonalmente Dominante y si los\n",
        "métodos descritos abajo convergirán, o no.\n",
        "- El mismo método de programación se asegura que la matriz sea DD, por tanto, de acuerdo al teorema, la solución converge.\n",
        "\n",
        "Resolver el SEL por cada uno de los siguientes métodos,\n",
        "realizando una descripción detallada de cómo elaboró el algoritmo\n",
        "-La función utilizada para realizar el metodo de SOR y el G-S, es exactamente la misma, en lo único que cambia es en la variación de lambda, el cual es llamado omega en la función. \n",
        "\n",
        "Se observa que entre los dos mpetodos la diferencia radica en el número de iteraciones, pero el resultado es el mismo. \n",
        "\n",
        "La variable sobre la cual se opera, que es la matriz A, cumple con algunas condiciones las cuales hacen que, si la matriz es diagonalmente dominante, los metodos resultan en una solución única, y a esto se le denomina como la convergencia de la solución.\n",
        "\n",
        "Realizar una gráfica de la forma como va convergiendo la solución\n",
        "- La gráfica se observa en la parte de arriba.\n",
        "\n",
        "## Bibliografía.\n",
        "\n",
        "Métodos numéricos para ingenieros. Libro de Raymond P. Canale\n",
        "\n",
        "Métodos Numéricos Aplicados a la Ingeniería. Libro de Antonio Nieves Hurtado y Federico C. Domínguez Sánchez\n",
        "\n",
        "Métodos numéricos con aplicaciones en excel. Libro de Pedro Alberto Quintana Hernández"
      ]
    },
    {
      "cell_type": "code",
      "execution_count": null,
      "metadata": {
        "id": "OAwIMc6qYHO2"
      },
      "outputs": [],
      "source": []
    }
  ],
  "metadata": {
    "colab": {
      "collapsed_sections": [],
      "name": "G100401_9_Michael_Stiven_Galvis_Lario_Ej1E.ipynb",
      "provenance": []
    },
    "kernelspec": {
      "display_name": "Python 3",
      "name": "python3"
    },
    "language_info": {
      "name": "python"
    }
  },
  "nbformat": 4,
  "nbformat_minor": 0
}

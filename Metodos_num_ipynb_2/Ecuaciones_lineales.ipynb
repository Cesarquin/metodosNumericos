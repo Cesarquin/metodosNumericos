{
  "nbformat": 4,
  "nbformat_minor": 0,
  "metadata": {
    "kernelspec": {
      "name": "python3",
      "display_name": "Python 3",
      "language": "python"
    },
    "language_info": {
      "name": "python",
      "version": "3.6.11",
      "mimetype": "text/x-python",
      "codemirror_mode": {
        "name": "ipython",
        "version": 3
      },
      "pygments_lexer": "ipython3",
      "nbconvert_exporter": "python",
      "file_extension": ".py"
    },
    "colab": {
      "name": "G9_Julian Corrales_EJ1B.ipynb",
      "provenance": []
    }
  },
  "cells": [
    {
      "cell_type": "markdown",
      "metadata": {
        "id": "cDBQZIFGgFwa"
      },
      "source": [
        "# Ejercicio 1: Sistema de Ecuaciones Lineales\n",
        "\n",
        "A continuación, encontrará los argumentos para el desarrollo del\n",
        "ejercicio 1 sobre Métodos de resolución de Sistemas de Ecuaciones Lineales:\n",
        "Para cada uno de los estudiantes del grupo, dado el siguiente código en Python\n",
        "\n",
        "Transcríbalo en su archivo de Google Colab y comente cada una de las líneas indicando brevemente qué hacen, y realice un comentario general de lo que hace todo el código y cuál es el resultado de su ejecución."
      ]
    },
    {
      "cell_type": "code",
      "metadata": {
        "trusted": true,
        "id": "xEf7PKLggFwe"
      },
      "source": [
        "import numpy as np       #Importa al entorno de trabajo la galeria numpy \n",
        "n=10\n",
        "A=np.random.rand(n,n)    #Crea una matriz aleatoria nxn\n",
        "b=np.random.rand(n)      #Crea un vector de n elementos \n",
        "alpha=3*n\n",
        "ADD=np.dot(A,A.T)+alpha*np.identity(n) #np.dot(A,A.T): producto escalar entre A y la transpuesta de A, np.identity(n): genera una matriz identidad.\n",
        "#El codigo en general genera una matriz y un vector aleatorios, de n filas con n columnas, al final se transforma la matriz de forma que los elementos de la \n",
        "#diagonal sean mayores a los demas elementos, es decir sea estrictamente diagonal dominante"
      ],
      "execution_count": null,
      "outputs": []
    },
    {
      "cell_type": "markdown",
      "metadata": {
        "id": "wuFbTuH4gFwf"
      },
      "source": [
        "#### Determinar si el SEL tiene, o no, solución. ¿Si la tiene, es única? Realice una breve explicación basándose en la teoría revisada.\n",
        "De acuerdo con el Teorema de Rouché-Fröbenius,la condición necesaria y suficiente para que un sistema de m ecuaciones lineales con n incógnitas sea compatible es que el rango de la matriz de los coeficientes de las incógnitas sea igual al rango de la matriz ampliada con los términos independientes. Ademas, si ese rango es igual al numero de incognitas el sistema es compatible y determinado."
      ]
    },
    {
      "cell_type": "code",
      "metadata": {
        "trusted": true,
        "colab": {
          "base_uri": "https://localhost:8080/"
        },
        "id": "DvuRrVKZgFwg",
        "outputId": "052528ed-ae65-497e-d4c4-9bcd16d91e76"
      },
      "source": [
        "A_T=np.zeros((n,n+1))\n",
        "for i in range(0,n):\n",
        "    for j in range(0,n):\n",
        "        A_T[i,j]=ADD[i,j]\n",
        "        if j==n-1:\n",
        "            A_T[i,j+1]=b[i]\n",
        "            \n",
        "Rango_ADD=np.linalg.matrix_rank(ADD) \n",
        "Rango_A_T=np.linalg.matrix_rank(A_T)\n",
        "\n",
        "if Rango_ADD == Rango_A_T: \n",
        "    print(\"El Sistema de ecuaciones es compatible, ya que El rango de la matriz de coeficientes es igual al rango de la matriz ampliada\")\n",
        "    \n",
        "if Rango_ADD==n:\n",
        "        print(\"El sistema de ecuaciones lineales es determinado, ya que, el rango de las matrices es igual al numero de incognitas\")\n",
        "else:\n",
        "    print(\"El sistema no de ecuaciones no es compatible\")"
      ],
      "execution_count": null,
      "outputs": [
        {
          "output_type": "stream",
          "text": [
            "El Sistema de ecuaciones es compatible, ya que El rango de la matriz de coeficientes es igual al rango de la matriz ampliada\n",
            "El sistema de ecuaciones lineales es determinado, ya que, el rango de las matrices es igual al numero de incognitas\n"
          ],
          "name": "stdout"
        }
      ]
    },
    {
      "cell_type": "markdown",
      "metadata": {
        "id": "i7xJh36dgFwh"
      },
      "source": [
        "## Determinar si la matriz es Diagonalmente Dominante y si los métodos descritos abajo convergirán, o no.\n",
        "Para garantizar la convergencia de los metodos iterativos para la resolucion de sistemas de ecuaciones lineales es necesario y suficiente que el elemento ubicado en la diagonal principal de cada ecuacion sea\n",
        "mayor en valor absoluto que la suma del resto de los elementos de la misma ecuacion, es decir, que esta matriz sea estrictamente diagonal dominante.\n",
        "\n",
        "$$|a_{i,i}|>\\sum_{j=0,j\\neq i}^n|a_{i,j}| \\hspace{1 cm}$$"
      ]
    },
    {
      "cell_type": "code",
      "metadata": {
        "trusted": true,
        "id": "2t2dDOv6gFwi",
        "colab": {
          "base_uri": "https://localhost:8080/"
        },
        "outputId": "d31904a8-446a-49da-a91a-ad4c058dc0eb"
      },
      "source": [
        "Id=np.zeros((n))\n",
        "for i in range(0,n):\n",
        "    for j in range(0,n):\n",
        "        if i==j:\n",
        "            Id[i]=ADD[i,j]\n",
        "it=0\n",
        "for i in range(0,n):\n",
        "    s=0\n",
        "    for j in range(0,n):\n",
        "        if i==j:\n",
        "            s=s\n",
        "        else:\n",
        "            s=ADD[i,j]+s\n",
        "    if Id[i]>s:\n",
        "        it=it+1\n",
        "\n",
        "if it==n: #Condicion si el sistema es estrictamente diagonal dominante:\n",
        "    print(\"La matriz es estrictamente diagonal dominante, por lo que la sucesion generada por los metodos iterativos converge\")\n",
        "else:\n",
        "    print(\"La matriz no es estrictamente diagonal dominante, no se garantiza la convergencia de los metodos iterativos\")"
      ],
      "execution_count": null,
      "outputs": [
        {
          "output_type": "stream",
          "text": [
            "La matriz es estrictamente diagonal dominante, por lo que la sucesion generada por los metodos iterativos converge\n"
          ],
          "name": "stdout"
        }
      ]
    },
    {
      "cell_type": "markdown",
      "metadata": {
        "id": "76k2ewHagFwi"
      },
      "source": [
        "# Metodo de Gauss Seidel\n",
        "Comienza con una aproximación inicial x(0) a la solución x y genera una sucesión de vectores x(k) que convergen a la solución x, empleando la siguiente ecuación:\n",
        "\n",
        "\n",
        "$$x^{k+1}_i=\\left(\\frac{1}{a_{i,j}}\\right)\\left(b_i-\\sum_{j=1}^n a_{i,j}x_j^k-\\sum_{j=i+1}^n a_{i,j}x_j^{k-1}\\right) \\hspace{1 cm}$$\n",
        "\n",
        "# Criterio de convergencia\n",
        "\n",
        "$$E=||x_{i}-x_{i-1}||\\eqslantless 10^{-6} \\hspace{1 cm}$$\n",
        "\n",
        "Para determinar la convergencia del método utilizamos la norma vectorial\n",
        "\n",
        "$$||x_2||=\\sqrt{\\left(x_1^2+ \\cdots +x_n^2 \\right)} \\hspace{1 cm}$$\n"
      ]
    },
    {
      "cell_type": "code",
      "metadata": {
        "trusted": true,
        "id": "KflcL38TgFwj",
        "colab": {
          "base_uri": "https://localhost:8080/"
        },
        "outputId": "8433a62f-feef-4d3b-a41f-dae74bc1684e"
      },
      "source": [
        "import pandas as pd\n",
        "# Inicializar de las variables\n",
        "q=np.zeros(n+1)\n",
        "\n",
        "for i in range(n+1):\n",
        "    q[i]=int(i+1)\n",
        "\n",
        "X = np.zeros_like(b)        # Vector solucion\n",
        "contador= 0                 # Numero de iteraciones\n",
        "E = []                      # Porcentaje de error\n",
        "Err = 1                     # Error inicial\n",
        "tol=1e-6                    # Tolerancia\n",
        "\n",
        "#Inicio ciclo iterativo\n",
        "\n",
        "while Err > tol:\n",
        "    contador += 1\n",
        "    for i in range(ADD.shape[0]):\n",
        "        suma = 0\n",
        "        # Se realiza la iteracion por el metodo de gauss seidel\n",
        "        for j in range(ADD.shape[1]):\n",
        "                if j != i:\n",
        "                    suma += ADD[i][j] * X[j]\n",
        "        \n",
        "        \n",
        "        X[i] = (b[i] - suma) / ADD[i, i]\n",
        "    \n",
        "    # Se calcula la norma del error para determinar el error de cada aproximacion\n",
        "    Err = np.linalg.norm(np.matmul(ADD, X) - b)\n",
        "    \n",
        "    # Se almacena el error en una lista para su posterior graficación. \n",
        "    E.append(Err)\n",
        "\n",
        "\n",
        "# Solucion\n",
        "print(\"Resultados Gauss seidel\")\n",
        "print(\"Iteraciones: \", contador)\n",
        "n=int(len(E))\n",
        "print(\"%Error: \", E[n-1])\n",
        "print (\"Sln: \")\n",
        "bb=np.dot(ADD,X)\n",
        "d={\"x_i\":q,\"x\":X,\"b\":b,\"Ax=b\":bb}\n",
        "TT=pd.DataFrame(d)\n",
        "TT.set_index(\"x_i\",inplace=True)\n",
        "print(TT.to_string())"
      ],
      "execution_count": null,
      "outputs": [
        {
          "output_type": "stream",
          "text": [
            "Resultados Gauss seidel\n",
            "Iteraciones:  9\n",
            "%Error:  3.1855817004020245e-07\n",
            "Sln: \n",
            "             x         b      Ax=b\n",
            "x_i                               \n",
            "1.0  -0.005735  0.043032  0.043033\n",
            "2.0   0.009088  0.537603  0.537603\n",
            "3.0   0.003191  0.337201  0.337201\n",
            "4.0   0.011390  0.548219  0.548219\n",
            "5.0   0.020020  0.810738  0.810738\n",
            "6.0   0.007662  0.443270  0.443270\n",
            "7.0   0.002609  0.322854  0.322854\n",
            "8.0   0.015291  0.636109  0.636109\n",
            "9.0   0.004073  0.357393  0.357393\n",
            "10.0  0.011342  0.586344  0.586344\n"
          ],
          "name": "stdout"
        }
      ]
    },
    {
      "cell_type": "markdown",
      "metadata": {
        "id": "HTzCCq6-gFwl"
      },
      "source": [
        "# Metodo de Jacobi\n",
        "\n",
        "Este método parte de una aproximación inicial, a partir de esta recalcula los valores de x al despejarla de una ecuación, este proceso se realiza para las n incógnitas x y cada cálculo se realiza con los valores de la aproximación anterior. La ecuacion de iteracion del metodo en su forma escalar es:\n",
        "\n",
        "$$x^{k+1}_i=\\left(\\frac{1}{a_{i,j}}\\right)\\left(b_i-\\sum_{j\\neq 1}^n a_{i,j}x_j^k\\right) \\hspace{1 cm}$$\n",
        "\n",
        "# Criterio de convergencia\n",
        "\n",
        "$$E=||x_{i}-x_{i-1}||\\eqslantless 10^{-6} \\hspace{1 cm}$$\n",
        "\n",
        "Para determinar la convergencia del método utilizamos la norma vectorial\n",
        "\n",
        "$$||x_2||=\\sqrt{\\left(x_1^2+ \\cdots +x_n^2 \\right)} \\hspace{1 cm}$$\n"
      ]
    },
    {
      "cell_type": "code",
      "metadata": {
        "trusted": true,
        "id": "RY0Nywu0gFwl",
        "colab": {
          "base_uri": "https://localhost:8080/"
        },
        "outputId": "55159601-5258-454a-9d3e-9f77ad173a1f"
      },
      "source": [
        "#Método de Jacobi\n",
        "\n",
        "X_2 = np.zeros_like(b)          # Vector solucion\n",
        "contador_2= 0                   # Numero de iteraciones\n",
        "E_2 = []                        # Porcentaje de error\n",
        "Err = 1                         # Error inicial\n",
        "tol=1e-6                        # Tolerancia\n",
        "\n",
        "\n",
        "while Err > tol:\n",
        "    \n",
        "    XX_2 = np.zeros_like(X_2) # Vector auxiliar almacena la iteracion anterior.\n",
        "    contador_2+= 1\n",
        "    for i in range(ADD.shape[0]):\n",
        "        suma = 0\n",
        "        for j in range(ADD.shape[1]):\n",
        "            if j != i:\n",
        "                suma += ADD[i][j] * X_2[j]\n",
        "        \n",
        "        XX_2[i] = (b[i] - suma) / ADD[i, i]\n",
        "        \n",
        "    Err = np.linalg.norm(np.matmul(ADD, XX_2) - b)\n",
        "        \n",
        "    E_2.append(Err)\n",
        "\n",
        "    X_2= XX_2                # Almacena la solucion actual\n",
        "        \n",
        "# Solucion\n",
        "print(\"Resultados Jacobi\")\n",
        "print(\"iteraciones: \", contador_2)\n",
        "n=int(len(E_2))\n",
        "print(\"%Error: \", E_2[n-1])\n",
        "print(\"Sln: \")\n",
        "bb=np.dot(ADD,X_2)\n",
        "d={\"x_i\":q,\"x\":X,\"b\":b,\"Ax=b\":bb}\n",
        "TT=pd.DataFrame(d)\n",
        "TT.set_index(\"x_i\",inplace=True)\n",
        "print(TT.to_string())\n"
      ],
      "execution_count": null,
      "outputs": [
        {
          "output_type": "stream",
          "text": [
            "Resultados Jacobi\n",
            "iteraciones:  60\n",
            "%Error:  8.390210481572359e-07\n",
            "Sln: \n",
            "             x         b      Ax=b\n",
            "x_i                               \n",
            "1.0  -0.005735  0.043032  0.043032\n",
            "2.0   0.009088  0.537603  0.537602\n",
            "3.0   0.003191  0.337201  0.337201\n",
            "4.0   0.011390  0.548219  0.548218\n",
            "5.0   0.020020  0.810738  0.810738\n",
            "6.0   0.007662  0.443270  0.443270\n",
            "7.0   0.002609  0.322854  0.322854\n",
            "8.0   0.015291  0.636109  0.636109\n",
            "9.0   0.004073  0.357393  0.357393\n",
            "10.0  0.011342  0.586344  0.586344\n"
          ],
          "name": "stdout"
        }
      ]
    },
    {
      "cell_type": "markdown",
      "metadata": {
        "id": "wt_dVKaIgFwm"
      },
      "source": [
        "# Metodo de S.O.R\n",
        "\n",
        "Después de calcular un nuevo valor de x por la ecuación de Gauss Seidel, ese valor se modifica por un promedio ponderado de los resultados de las iteraciones gs (hecha con Gauss-Seidel) y anterior, esto se conoce como técnica SOR(sucessive over-relaxation) o de relajación. El esquema es el siguiente\n",
        "\n",
        "$$x^{k+1}_i=\\left(\\frac{\\omega}{a_{i,j}}\\right)\\left(b_i-\\sum_{j=1}^n a_{i,j}x_j^k-\\sum_{j=i+1}^n a_{i,j}x_j^{k-1}\\right)+(1-\\omega)x_i^k \\hspace{1 cm}$$\n",
        "\n",
        "# Criterio de convergencia\n",
        "\n",
        "$$E=||x_{i}-x_{i-1}||\\eqslantless 10^{-6} \\hspace{1 cm}$$\n",
        "\n",
        "Para determinar la convergencia del método utilizamos la norma vectorial\n",
        "\n",
        "$$||x_2||=\\sqrt{\\left(x_1^2+ \\cdots +x_n^2 \\right)} \\hspace{1 cm}$$"
      ]
    },
    {
      "cell_type": "code",
      "metadata": {
        "trusted": true,
        "id": "f2UmKE_TgFwn",
        "colab": {
          "base_uri": "https://localhost:8080/"
        },
        "outputId": "894c49f4-7744-43d0-b477-e2098386e861"
      },
      "source": [
        "# Método S.O.R\n",
        "\n",
        "X_3 = np.zeros_like(b)          # Vector solucion\n",
        "contador_3= 0                   # Numero de iteraciones\n",
        "E_3 = []                        # Porcentaje de error\n",
        "Err = 1                         # Error inicial\n",
        "tol=1e-6                        # Tolerancia\n",
        "w=1.1\n",
        "\n",
        "while Err > tol:\n",
        "    contador_3 += 1\n",
        "    for i in range(ADD.shape[0]):\n",
        "        suma = 0\n",
        "        for j in range(ADD.shape[1]):\n",
        "                if j != i:\n",
        "                    suma += ADD[i][j] * X_3[j]\n",
        "        \n",
        "        \n",
        "        X_3[i] = (1 - w) * X_3[i] + w * (b[i] - suma) / ADD[i, i]\n",
        "        \n",
        "    Err = np.linalg.norm(np.matmul(ADD, X_3) - b)\n",
        "        \n",
        "    E_3.append(Err)   \n",
        "    \n",
        "\n",
        "# Solucion\n",
        "print(\"Resultados SOR\")\n",
        "print(\"Iteraciones: \", contador_3)\n",
        "n=int(len(E_3))\n",
        "print(\"%Error: \", E_3[n-1])\n",
        "print (\"Sln: \")\n",
        "bb=np.dot(ADD,X_2)\n",
        "d={\"x_i\":q,\"x\":X,\"b\":b,\"Ax=b\":bb}\n",
        "TT=pd.DataFrame(d)\n",
        "TT.set_index(\"x_i\",inplace=True)\n",
        "print(TT.to_string())"
      ],
      "execution_count": null,
      "outputs": [
        {
          "output_type": "stream",
          "text": [
            "Resultados SOR\n",
            "Iteraciones:  11\n",
            "%Error:  4.224691744474859e-07\n",
            "Sln: \n",
            "             x         b      Ax=b\n",
            "x_i                               \n",
            "1.0  -0.005735  0.043032  0.043032\n",
            "2.0   0.009088  0.537603  0.537602\n",
            "3.0   0.003191  0.337201  0.337201\n",
            "4.0   0.011390  0.548219  0.548218\n",
            "5.0   0.020020  0.810738  0.810738\n",
            "6.0   0.007662  0.443270  0.443270\n",
            "7.0   0.002609  0.322854  0.322854\n",
            "8.0   0.015291  0.636109  0.636109\n",
            "9.0   0.004073  0.357393  0.357393\n",
            "10.0  0.011342  0.586344  0.586344\n"
          ],
          "name": "stdout"
        }
      ]
    },
    {
      "cell_type": "markdown",
      "metadata": {
        "id": "AbYXMmxqgFwo"
      },
      "source": [
        "#### Realizar una gráfica de la forma como va convergiendo la solución (Número de iteraciones vs norma del error). Realice una breve explicación, sustentándose en la teoría revisada, acerca de los resultados. ¿Cuál considera que es el mejor método para el SEL seleccionado en particular? ¿por qué?"
      ]
    },
    {
      "cell_type": "code",
      "metadata": {
        "trusted": true,
        "id": "cjg3AgVrgFwp",
        "colab": {
          "base_uri": "https://localhost:8080/",
          "height": 295
        },
        "outputId": "2488254c-745b-4fb5-c088-ccaff6d5071e"
      },
      "source": [
        "import matplotlib.pyplot as plt\n",
        "# Grafica de resultados\n",
        "# Se grafica el error vs el numero de iteraciones\n",
        "\n",
        "C_1 = np.linspace(1,contador,contador)\n",
        "C_2 = np.linspace(1,contador_2,contador_2)\n",
        "C_3 = np.linspace(1,contador_3,contador_3)\n",
        "\n",
        "plt.title(\"Número de iteraciones vs norma del error\")\n",
        "plt.plot(C_1,E,label = \"Metodo Gauss-Seidel\")\n",
        "plt.plot(C_2,E_2,label = \"Metodo Jacobi\")\n",
        "plt.plot(C_3,E_3, label = \"Metodo S.O.R\")\n",
        "plt.grid()\n",
        "plt.xlabel(\"Número de iteraciones\")\n",
        "plt.ylabel(\"Norma del error\")\n",
        "plt.legend()\n",
        "plt.show()"
      ],
      "execution_count": null,
      "outputs": [
        {
          "output_type": "display_data",
          "data": {
            "image/png": "[encoded data removed]",
            "text/plain": [
              "<Figure size 432x288 with 1 Axes>"
            ]
          },
          "metadata": {
            "tags": [],
            "needs_background": "light"
          }
        }
      ]
    },
    {
      "cell_type": "markdown",
      "metadata": {
        "trusted": false,
        "id": "UlvAM1TtgFwq"
      },
      "source": [
        "# Analisis de resultados:\n",
        "Los metodos empleados cumplieron los criterios de convergencia obteniendo la misma respuesta para la solucion del sistema. El método SOR proporciona una solución más rápida si este converge por Gauss Seidel o lo ayuda a converger en caso de no ser así. Todo depende del parámetro omega seleccionado, el cual, se busca de forma que ofrezca un mejor desempeño que el metodo de Gauss Seidel"
      ]
    },
    {
      "cell_type": "markdown",
      "metadata": {
        "trusted": false,
        "id": "DqWnD32rgFwq"
      },
      "source": [
        "# Referencias\n",
        "Nieves, A. (2015). Métodos numéricos: aplicados a la ingeniería.\n",
        "Grupo Editorial Patria. (pp. 231 – 242).\n",
        "\n",
        "# Enlace Video:\n",
        "https://www.youtube.com/watch?v=8_c8s3kgPjY"
      ]
    },
    {
      "cell_type": "code",
      "metadata": {
        "trusted": true,
        "id": "4_vFu5Y3gFwr"
      },
      "source": [
        ""
      ],
      "execution_count": null,
      "outputs": []
    }
  ]
}
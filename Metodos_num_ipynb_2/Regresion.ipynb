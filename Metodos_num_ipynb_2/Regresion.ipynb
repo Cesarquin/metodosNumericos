{
  "cells": [
    {
      "attachments": {},
      "cell_type": "markdown",
      "metadata": {
        "id": "tO3xSPA8xa62"
      },
      "source": [
        "Cesar Quintero"
      ]
    },
    {
      "cell_type": "code",
      "execution_count": 1,
      "metadata": {
        "id": "VtB47augrTdW"
      },
      "outputs": [],
      "source": [
        "import numpy as np\n",
        "import sympy as sym\n",
        "import matplotlib.pyplot as plt"
      ]
    },
    {
      "cell_type": "code",
      "execution_count": 12,
      "metadata": {
        "id": "L-AbMWdnrTTQ"
      },
      "outputs": [],
      "source": [
        "xi=np.array([1,2,3,4,5,7,8,9,10])\n",
        "yi=np.array([0,1.098,1.386,0.609,0.791,1.079,1.197,2.302,2.397])"
      ]
    },
    {
      "cell_type": "code",
      "execution_count": 15,
      "metadata": {
        "colab": {
          "base_uri": "https://localhost:8080/"
        },
        "id": "zV2bdfsUrTFi",
        "outputId": "ee326d91-9866-49cb-e472-a746e6f515b5"
      },
      "outputs": [
        {
          "name": "stdout",
          "output_type": "stream",
          "text": [
            "0.000139153439153439*x**8 - 0.00667906746031745*x**7 + 0.133300198412699*x**6 - 1.43261964285714*x**5 + 8.96799047619047*x**4 - 32.9773258928571*x**3 + 68.102641600529*x**2 - 70.0624468253968*x + 27.275\n"
          ]
        }
      ],
      "source": [
        "n = len(xi)\n",
        "x=sym.Symbol('x')\n",
        "polinomio=0\n",
        "for i in range(0,n,1):\n",
        "  numerador=1\n",
        "  denominador=1\n",
        "  for j in range(0,n,1):\n",
        "    if i!=j:\n",
        "      numerador=numerador*(x-xi[j])\n",
        "      denominador=denominador*(xi[i]-xi[j])\n",
        "    termino=(numerador/denominador)*yi[i]\n",
        "  polinomio=polinomio+termino\n",
        "polisimple=sym.expand(polinomio)\n",
        "\n",
        "\n",
        "print(polisimple)\n",
        "\n"
      ]
    },
    {
      "cell_type": "code",
      "execution_count": 16,
      "metadata": {
        "colab": {
          "base_uri": "https://localhost:8080/",
          "height": 267
        },
        "id": "8p5S1U0YrTEO",
        "outputId": "84bf3ca7-622f-4a27-ec3a-f48ad93765bf"
      },
      "outputs": [
        {
          "data": {
            "image/png": "[encoded data removed]",
            "text/plain": [
              "<Figure size 432x288 with 1 Axes>"
            ]
          },
          "metadata": {
            "needs_background": "light",
            "tags": []
          },
          "output_type": "display_data"
        }
      ],
      "source": [
        "# gráfica:\n",
        "plt.plot(xi,yi,'o')\n",
        "plt.show()\n"
      ]
    },
    {
      "cell_type": "code",
      "execution_count": 17,
      "metadata": {
        "id": "v4OdIfxmrOtT"
      },
      "outputs": [],
      "source": [
        "px=sym.lambdify(x,polinomio)"
      ]
    },
    {
      "cell_type": "code",
      "execution_count": 18,
      "metadata": {
        "id": "xfOy6JHSwyf9"
      },
      "outputs": [],
      "source": [
        "mues=51\n",
        "a=np.min(xi)\n",
        "b=np.max(xi)\n",
        "pxi=np.linspace(a,b,mues)\n",
        "pfi=px(pxi)\n"
      ]
    },
    {
      "cell_type": "code",
      "execution_count": 19,
      "metadata": {
        "colab": {
          "base_uri": "https://localhost:8080/",
          "height": 264
        },
        "id": "58YKQ15pxLBi",
        "outputId": "d7630df0-3e15-4172-f580-7a9afbe35475"
      },
      "outputs": [
        {
          "data": {
            "image/png": "[encoded data removed]",
            "text/plain": [
              "<Figure size 432x288 with 1 Axes>"
            ]
          },
          "metadata": {
            "needs_background": "light",
            "tags": []
          },
          "output_type": "display_data"
        }
      ],
      "source": [
        "# gráfica:\n",
        "plt.plot(xi,yi,'o')\n",
        "plt.plot(pxi,pfi)\n",
        "plt.show()\n"
      ]
    },
    {
      "cell_type": "code",
      "execution_count": null,
      "metadata": {
        "id": "EZjp7PTGxYwC"
      },
      "outputs": [],
      "source": []
    }
  ],
  "metadata": {
    "colab": {
      "collapsed_sections": [],
      "name": "Metodos_numericos5.ipynb",
      "provenance": []
    },
    "kernelspec": {
      "display_name": "Python 3",
      "name": "python3"
    },
    "language_info": {
      "name": "python"
    }
  },
  "nbformat": 4,
  "nbformat_minor": 0
}

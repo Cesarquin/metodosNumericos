{
  "cells": [
    {
      "attachments": {},
      "cell_type": "markdown",
      "metadata": {
        "id": "nFvlY0BPBTVj"
      },
      "source": [
        "Realizado por: Cesar Quintero\n",
        "\n",
        "# **Integración numérica**\n",
        "\n",
        "$$\\int_{-2}^{0}{xe^{-x}dx}$$\n",
        "\n",
        "Calcule la integral por cada uno de los siguientes esquemas:\n",
        "\n",
        "  * Regla del trapecio simple y compuesta\n",
        "  * Regla de Simpson1/3 simple y compuesta\n",
        "  * Regla de Simpson3/8 simple y compuesta\n",
        "  * Cuadratura de Gauss de 2 y 3 puntos.\n",
        "\n",
        "Para las reglas compuestas use 𝑛 = 10 y 𝑛 = 16."
      ]
    },
    {
      "cell_type": "code",
      "execution_count": null,
      "metadata": {
        "id": "Y_YLvlSrBBYR"
      },
      "outputs": [],
      "source": [
        "import matplotlib.pyplot as plt\n",
        "import numpy as np\n",
        "\n",
        "integral = -8.3890560\n",
        "\n",
        "def f(x):\n",
        "  return x*np.exp(-x)"
      ]
    },
    {
      "cell_type": "markdown",
      "metadata": {
        "id": "aEVyaKalMZu3"
      },
      "source": [
        "### Regla del trapecio simple:\n",
        "\n",
        "$$\\int_{a}^{b}{f(x)dx} \\approx (b-a)(\\frac{f(a)+f(b)}{2})$$\n",
        "\n",
        "$$|E_{t}| \\leq \\frac{K(b-a)^3}{2}$$\n",
        "\n",
        "la integral es:\n",
        "$$\\int_{-2}^{0}{xe^{-x}dx}$$"
      ]
    },
    {
      "cell_type": "code",
      "execution_count": null,
      "metadata": {
        "colab": {
          "base_uri": "https://localhost:8080/"
        },
        "id": "H9VjyZFuLsYL",
        "outputId": "ea5e7167-1e0d-4884-8809-09adf2155315"
      },
      "outputs": [
        {
          "name": "stdout",
          "output_type": "stream",
          "text": [
            "Resultado con trapesio simple:     -14.7781121978613     Error: -76.159418%\n"
          ]
        }
      ],
      "source": [
        "def trapesiosimple(a,b,funcion):\n",
        "  IRTS = (b-a)*((funcion(a)+funcion(b))/2)\n",
        "  errorTs = abs(IRTS-integral)/integral\n",
        "  print(\"Resultado con trapesio simple: {:^25} Error: {:%}\".format(IRTS, errorTs))\n",
        "  return\n",
        "a=-2; b=0\n",
        "trapesiosimple(a,b,f)"
      ]
    },
    {
      "cell_type": "markdown",
      "metadata": {
        "id": "cFH4cvSWTUpf"
      },
      "source": [
        "### Regla del trapecio compuesta:"
      ]
    },
    {
      "cell_type": "code",
      "execution_count": null,
      "metadata": {
        "colab": {
          "base_uri": "https://localhost:8080/"
        },
        "id": "lX3ODJ57SfsE",
        "outputId": "8a9db779-f9ec-470a-af8b-071d7d7b03df"
      },
      "outputs": [
        {
          "name": "stdout",
          "output_type": "stream",
          "text": [
            "Resultado con trapesio compuesto(n=10):    -8.459537991389684     Error: -0.840166%\n",
            "Resultado con trapesio compuesto(n=16):    -8.416606011566541     Error: -0.328404%\n"
          ]
        }
      ],
      "source": [
        "def trapecioC(a,b,n,funcion):\n",
        "  x=[]\n",
        "  y=[]\n",
        "  h=(b-a)/n\n",
        "  x.append(a)\n",
        "  for i in range(0,n,1):\n",
        "    x.append(x[i]+h)\n",
        "  for i in range(0,n+1,1):\n",
        "    y.append(funcion(x[i]))\n",
        "  IRTC = 0\n",
        "  for i in range(1,n,1):\n",
        "    IRTC += y[i]\n",
        "  IRTC = (h/2)*(y[0]+2*IRTC+y[n])\n",
        "  errorTc = abs(IRTC-integral)/integral\n",
        "  print(\"Resultado con trapesio compuesto(n={:^2}): {:^25} Error: {:%}\".format(n, IRTC, errorTc))\n",
        "  return\n",
        "a=-2; b=0; n=10\n",
        "trapecioC(a,b,n,f)\n",
        "a=-2; b=0; n=16\n",
        "trapecioC(a,b,n,f)"
      ]
    },
    {
      "cell_type": "markdown",
      "metadata": {
        "id": "hkmXf7tPYCf2"
      },
      "source": [
        "### Regla Simpson 1/3 simple"
      ]
    },
    {
      "cell_type": "code",
      "execution_count": null,
      "metadata": {
        "colab": {
          "base_uri": "https://localhost:8080/"
        },
        "id": "zUdtRYsUXKIR",
        "outputId": "5710353f-79bd-45d6-b975-599a4c3b442f"
      },
      "outputs": [
        {
          "name": "stdout",
          "output_type": "stream",
          "text": [
            "Resultado con Simpson 1/3 simple:    -8.550413170565827     Error: -1.923425%\n"
          ]
        }
      ],
      "source": [
        "def simpson13s(a,b,funcion):\n",
        "  S13S = (b-a)*(funcion(a)+4*funcion((a+b)/2)+funcion(b))/6\n",
        "  errorS13S = abs(S13S - integral)/integral\n",
        "  print(\"Resultado con Simpson 1/3 simple: {:^25} Error: {:%}\".format(S13S, errorS13S))\n",
        "  return\n",
        "\n",
        "simpson13s(a,b,f)  "
      ]
    },
    {
      "cell_type": "markdown",
      "metadata": {
        "id": "_mqqo5CNZKVB"
      },
      "source": [
        "### Regla Simpson 1/3 compuesta"
      ]
    },
    {
      "cell_type": "code",
      "execution_count": null,
      "metadata": {
        "colab": {
          "base_uri": "https://localhost:8080/"
        },
        "id": "CPJaJY6KZGto",
        "outputId": "a8d19e05-62de-44e1-cbfd-761384c815f3"
      },
      "outputs": [
        {
          "name": "stdout",
          "output_type": "stream",
          "text": [
            "Resultado con Simpson 1/3 compuesto(n=10):    -8.389355867573286     Error: -0.003575%\n",
            "Resultado con Simpson 1/3 compuesto(n=16):    -8.389102022529086     Error: -0.000549%\n"
          ]
        }
      ],
      "source": [
        "def simpson13C(a,b,n,funcion):\n",
        "  x=[]\n",
        "  y=[]\n",
        "  h = (b-a)/n\n",
        "  x.append(a)\n",
        "  for i in range(0,n,1):\n",
        "    x.append(x[i]+h)\n",
        "  for i in range(0,n+1,1):\n",
        "    y.append(funcion(x[i]))\n",
        "  suma1 = 0\n",
        "  for i in range(1,n,2):\n",
        "    suma1 += y[i]\n",
        "  suma2 = 0\n",
        "  for i in range(2,n,2):\n",
        "    suma2 += y[i]\n",
        "  IRS13C = (h/3)*(y[0]+4*suma1+2*suma2+y[n])\n",
        "  errorS13C = abs(IRS13C - integral)/integral\n",
        "  print(\"Resultado con Simpson 1/3 compuesto(n={:^2}): {:^25} Error: {:%}\".format(n, IRS13C, errorS13C))\n",
        "  return\n",
        "a=-2; b=0; n=10\n",
        "simpson13C(a,b,n,f)\n",
        "a=-2; b=0; n=16\n",
        "simpson13C(a,b,n,f)"
      ]
    },
    {
      "cell_type": "markdown",
      "metadata": {
        "id": "rlIDegada7Sq"
      },
      "source": [
        "### Regla Simpson 3/8 simple"
      ]
    },
    {
      "cell_type": "code",
      "execution_count": null,
      "metadata": {
        "colab": {
          "base_uri": "https://localhost:8080/"
        },
        "id": "_mljjr8UaqJ8",
        "outputId": "363563b4-4a76-462e-9ea4-e39f9b2efc17"
      },
      "outputs": [
        {
          "name": "stdout",
          "output_type": "stream",
          "text": [
            "Resultado con Simpson 3/8 simple:    -8.462062964675843     Error: -0.870264%\n"
          ]
        }
      ],
      "source": [
        "def simpson38S(a,b,funcion):\n",
        "  S38S = (b-a)*(funcion(a)+3*funcion(a+(b-a)/3)+3*funcion(a+2*(b-a)/3)+funcion(b))/8\n",
        "  errorS38S = abs(S38S - integral)/integral\n",
        "  print(\"Resultado con Simpson 3/8 simple: {:^25} Error: {:%}\".format(S38S, errorS38S))\n",
        "  return\n",
        "\n",
        "simpson38S(a,b,f)"
      ]
    },
    {
      "cell_type": "markdown",
      "metadata": {
        "id": "v6lzMzsScAnc"
      },
      "source": [
        "### Regla Simpson 3/8 compuesta"
      ]
    },
    {
      "cell_type": "code",
      "execution_count": null,
      "metadata": {
        "colab": {
          "base_uri": "https://localhost:8080/"
        },
        "id": "vybinKGKb1EV",
        "outputId": "6a06fab3-c354-42d4-9ed5-3111f3e75685"
      },
      "outputs": [
        {
          "name": "stdout",
          "output_type": "stream",
          "text": [
            "Resultado con Simpson 3/8 compuesto(n=10):    -8.348509456548149     Error: -0.483327%\n",
            "Resultado con Simpson 3/8 compuesto(n=16):    -8.374022876200783     Error: -0.179199%\n"
          ]
        }
      ],
      "source": [
        "def simpson38C(a,b,n,funcion):\n",
        "  x=[]\n",
        "  y=[]\n",
        "  h = (b-a)/n\n",
        "  x.append(a)\n",
        "  m=int(n/3)\n",
        "  i=0\n",
        "  for i in range(0,n,1):\n",
        "    x.append(x[i]+h)\n",
        "    suma1=0\n",
        "  for i in range(0,m):\n",
        "    suma1 = suma1 + 3*funcion(x[3*i+1]) + 3*funcion(x[3*i+2])\n",
        "  suma2 = 0\n",
        "  for i in range(0,m-1):\n",
        "    suma2 = suma2 + 2*funcion(x[3*i+3])\n",
        "  S38C = (3*h/8)*(funcion(x[0])+suma1+suma2+funcion(x[n]))\n",
        "  errorS38C = abs(S38C - integral)/integral\n",
        "  print(\"Resultado con Simpson 3/8 compuesto(n={:^2}): {:^25} Error: {:%}\".format(n, S38C, errorS38C))\n",
        "  return\n",
        "a=-2; b=0; n=10\n",
        "simpson38C(a,b,n,f)\n",
        "a=-2; b=0; n=16\n",
        "simpson38C(a,b,n,f)"
      ]
    },
    {
      "cell_type": "markdown",
      "metadata": {
        "id": "ANr81rxDd0VV"
      },
      "source": [
        "### Cuadratura Gauss"
      ]
    },
    {
      "cell_type": "code",
      "execution_count": null,
      "metadata": {
        "colab": {
          "base_uri": "https://localhost:8080/"
        },
        "id": "ewQc_zWPdwuZ",
        "outputId": "5ceb40cd-6bd4-4033-8b6c-31f98ab04f36"
      },
      "outputs": [
        {
          "name": "stdout",
          "output_type": "stream",
          "text": [
            "Resultado con cuadratura Gauss 3 puntos:    -8.387800206433289     Error: -0.014969%\n",
            "Resultado con cuadratura Gauss 3 puntos:    -8.387800206433289     Error: -0.014969%\n"
          ]
        }
      ],
      "source": [
        "# dos puntos\n",
        "def cuadraturaGauss2(a,b,funcion):\n",
        "  xa=((b+a)-(b-a)/np.sqrt(3))/2\n",
        "  xb=((b+a)+(b-a)/np.sqrt(3))/2\n",
        "  CG2 = (funcion(xa)+funcion(xb))*(b-a)/2\n",
        "  errorCG2 = abs(CG2 - integral)/integral\n",
        "  print(\"Resultado con cuadratura Gauss 2 puntos: {:^25} Error: {:%}\".format(CG2, errorCG2))\n",
        "  return\n",
        "\n",
        "# tres puntos\n",
        "def cuadraturaGauss3(a,b,funcion):\n",
        "  c0=0.5555556\n",
        "  c1=0.8888889\n",
        "  c2=c0\n",
        "  x0=-0.7745966669\n",
        "  x1=0\n",
        "  x2=0.7745966669\n",
        "  xa=((b+a)+(b-a)*x0)/2\n",
        "  xb=((b+a)+(b-a)*x1)/2\n",
        "  xc=((b+a)+(b-a)*x2)/2\n",
        "  CG3 = c0*funcion(xa)*(b-a)/2+c1*funcion(xb)*(b-a)/2+c2*funcion(xc)*(b-a)/2\n",
        "  errorCG3 = abs(CG3 - integral)/integral\n",
        "  print(\"Resultado con cuadratura Gauss 3 puntos: {:^25} Error: {:%}\".format(CG3, errorCG3))\n",
        "  return\n",
        "\n",
        "cuadraturaGauss3(a,b,f)\n",
        "cuadraturaGauss3(a,b,f)"
      ]
    },
    {
      "cell_type": "markdown",
      "metadata": {
        "id": "aLfq-Fy9rnqR"
      },
      "source": [
        "# Análisis:\n",
        "\n",
        "Se observa que en la medida que se incrementa la robustez del método, se tiene una mejor aproximación del resultado de la integral, ya que cada método intenta hacer una mejor aproximación con un mejoramiento en la forma en la que toma el área bajo la curva. Es por esto que el método de cuadratura de Gauss obtuvo el mejor resultado en valor de error con un porcentaje de 0,01496%\n"
      ]
    },
    {
      "cell_type": "markdown",
      "metadata": {
        "id": "IM2wXocCftTv"
      },
      "source": [
        "### Referencias:\n",
        "\n",
        "ANTON, H., RORRES, C. Elementary Linear Algebra (applications\n",
        "version). John Wiley and Sons, Inc. New York, 2000.\n",
        "BLANCHARD, P.; DEVANEY, R.L.; HALL, G.R. Ecuaciones Diferenciales. International Thomson Editores, S.A. de C.V., 1999\n",
        "BURDEN, R.L.; FAIRES, J.D. An´alisis Num´erico, 2\n",
        "a ed. Grupo Editorial Iberoamericano, S.A., 1996."
      ]
    },
    {
      "cell_type": "code",
      "execution_count": null,
      "metadata": {
        "id": "gvilfgWjtUYu"
      },
      "outputs": [],
      "source": []
    }
  ],
  "metadata": {
    "colab": {
      "collapsed_sections": [],
      "name": "Tarea_4_Diferenciación_e_Integración_Numérica_y_Ecuaciones_Diferenciales_Ordinarias2.ipynb",
      "provenance": []
    },
    "kernelspec": {
      "display_name": "Python 3",
      "name": "python3"
    },
    "language_info": {
      "name": "python"
    }
  },
  "nbformat": 4,
  "nbformat_minor": 0
}

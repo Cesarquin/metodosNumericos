{
  "cells": [
    {
      "attachments": {},
      "cell_type": "markdown",
      "metadata": {
        "id": "aaYbqToDkp7j"
      },
      "source": [
        "Realizado por: Cesar Quintero\n",
        "\n",
        "# **DIFERENCIACIÓN NUMÉRICA**\n",
        "$$ f(x)=x^2,  x=1 $$\n",
        "\n",
        "## Primera derivada:\n",
        "Determinar el valor aproximado de la primera y segunda derivada empleando esquemas de diferencia finita hacia adelante, hacia atrás y central, para los x dados, con ℎ = 0.5, ℎ =0.05 y ℎ = 0.01."
      ]
    },
    {
      "cell_type": "code",
      "execution_count": null,
      "metadata": {
        "id": "a3_M5PWFkj11"
      },
      "outputs": [],
      "source": [
        "from numpy import *\n",
        "# función f(x):\n",
        "def f(x):\n",
        "  return x ** 2\n",
        "\n",
        "# Primera derivada:\n",
        "def Df(x):\n",
        "  return 2*x\n",
        "\n",
        "## Segunda derivada:\n",
        "def DDf(x):\n",
        "  return 2\n",
        "\n",
        "# parámetros:\n",
        "x = 1\n",
        "H = [0.5, 0.05, 0.01]"
      ]
    },
    {
      "cell_type": "code",
      "execution_count": null,
      "metadata": {
        "colab": {
          "base_uri": "https://localhost:8080/"
        },
        "id": "uK4AFqXtmQzA",
        "outputId": "bd5ad9a4-6bf4-4c11-bcdb-5842f2732d87"
      },
      "outputs": [
        {
          "name": "stdout",
          "output_type": "stream",
          "text": [
            "\n",
            "h = 0.5\n",
            "Derivada con diferencia hacia adelante:            2.5            error:50.000000%\n",
            "Derivada diferencia hacia atras:                  1.5            error: 50.000000%\n",
            "Derivada con diferencia central:                  2.0            error: 0.000000%\n",
            "\n",
            "h = 0.05\n",
            "Derivada con diferencia hacia adelante:    2.0500000000000007     error:5.000000%\n",
            "Derivada diferencia hacia atras:          1.9500000000000006     error: 5.000000%\n",
            "Derivada con diferencia central:          2.0000000000000004     error: 0.000000%\n",
            "\n",
            "h = 0.01\n",
            "Derivada con diferencia hacia adelante:    2.0100000000000007     error:1.000000%\n",
            "Derivada diferencia hacia atras:          1.9900000000000029     error: 1.000000%\n",
            "Derivada con diferencia central:          2.0000000000000018     error: 0.000000%\n",
            "\n",
            "Vaor analítico:                        2\n"
          ]
        }
      ],
      "source": [
        "for h in H:\n",
        "  # hacia adelante:\n",
        "  Df_adelante = (f(x+h)-f(x))/(h)\n",
        "\n",
        "  # hacia atrás:\n",
        "  Df_atras = (f(x)-f(x-h))/(h)\n",
        "\n",
        "  # Central\n",
        "  Df_centro = (f(x+h)-f(x-h))/(2*h)\n",
        "\n",
        "  print(\"\\nh = {}\".format(h))\n",
        "  error1 = abs(Df_adelante - Df(x))\n",
        "  print(\"Derivada con diferencia hacia adelante: {:^25} error:{:%}\".format(Df_adelante, error1))\n",
        "  error2 = abs(Df_atras - Df(x))\n",
        "  print(\"Derivada diferencia hacia atras:       {:^25} error: {:%}\".format(Df_atras, error2))\n",
        "  error3 = abs(Df_centro - Df(x))\n",
        "  print(\"Derivada con diferencia central:       {:^25} error: {:%}\".format(Df_centro, error3))\n",
        "\n",
        "print(\"\\nVaor analítico: {:24}\".format(Df(x)))"
      ]
    },
    {
      "cell_type": "markdown",
      "metadata": {
        "id": "NgGPqJpW09RK"
      },
      "source": [
        "## Segunda derivada:"
      ]
    },
    {
      "cell_type": "code",
      "execution_count": null,
      "metadata": {
        "colab": {
          "base_uri": "https://localhost:8080/"
        },
        "id": "bWqOrt5OmSfT",
        "outputId": "e909a264-612f-4d24-993c-89901ae0cd74"
      },
      "outputs": [
        {
          "name": "stdout",
          "output_type": "stream",
          "text": [
            "\n",
            "h = 0.5\n",
            "Sedunda derivada adelante:    2.0100000000000007     error: 0.000000%\n",
            "Sedunda derivada atrás:    1.9900000000000029     error: 0.000000%\n",
            "Sedunda derivada central:            2.0            error: 0.000000%\n",
            "\n",
            "h = 0.05\n",
            "Sedunda derivada adelante:    2.0100000000000007     error: 0.000000%\n",
            "Sedunda derivada atrás:    1.9900000000000029     error: 0.000000%\n",
            "Sedunda derivada central:    2.0000000000000013     error: 0.000000%\n",
            "\n",
            "h = 0.01\n",
            "Sedunda derivada adelante:    2.0100000000000007     error: -0.000000%\n",
            "Sedunda derivada atrás:    1.9900000000000029     error: -0.000000%\n",
            "Sedunda derivada central:    1.9999999999997797     error: -0.000000%\n",
            "\n",
            "Valor analítico: 2\n"
          ]
        }
      ],
      "source": [
        "for h in H:\n",
        "  # adelante:\n",
        "  DDf_adelante = (f(x+2*h) - 2*f(x+h) + f(x))/(h*h)\n",
        "\n",
        "  # atrás:\n",
        "  DDf_atras = (f(x) - 2*f(x-h) + f(x-2*h)) / (h*h)\n",
        "\n",
        "  #central:\n",
        "  DDf_central = (f(x+h) -2*f(x) + f(x-h)) / (h*h)\n",
        "\n",
        "  print(\"\\nh = {}\".format(h))\n",
        "  errorDD1 = abs(DDf_adelante - DDf(x))\n",
        "  print(\"Sedunda derivada adelante: {:^25} error: {:%}\".format(Df_adelante, errorDD1))\n",
        "  errorDD2 = abs(DDf_atras - DDf(x))\n",
        "  print(\"Sedunda derivada atrás: {:^25} error: {:%}\".format(Df_atras, errorDD2))\n",
        "  errorDD3 = abs(DDf_central - DDf(x))\n",
        "  print(\"Sedunda derivada central: {:^25} error: {:%}\".format(DDf_central, errorDD3))\n",
        "\n",
        "print(\"\\nValor analítico: {}\".format(DDf(x)))"
      ]
    },
    {
      "cell_type": "markdown",
      "metadata": {
        "id": "TMnMyUlv33u5"
      },
      "source": [
        "# Análisis:\n",
        "\n",
        "Con respecto a la primera derivada, se observa que el mejor método de derivación es tomando como referencia el punto central, ya que es el método que entrega el menor valor de error. incluso, el método mejora cuando la diferencia 'h' se hace cada vez menor, es decir, entre mas pequeña es la distancia 'h', mas cercano es el valor de la derivada hallada.\n",
        "\n",
        "Con la segunda derivada, se observa que el error es aún mas pequeño, donde el valor del error se observa como muy cercano a cero. para esto hay que recordar que $f(x) = x^2 \\rightarrow f'(x) = 2x$ pero evaluando en $x =1 \\rightarrow f(1) = 1, y f'(1) = 2$\n"
      ]
    },
    {
      "cell_type": "markdown",
      "metadata": {
        "id": "vQCnTqQ4fe1U"
      },
      "source": [
        "### Referencias:\n",
        "\n",
        "ANTON, H., RORRES, C. Elementary Linear Algebra (applications\n",
        "version). John Wiley and Sons, Inc. New York, 2000.\n",
        "BLANCHARD, P.; DEVANEY, R.L.; HALL, G.R. Ecuaciones Diferenciales. International Thomson Editores, S.A. de C.V., 1999\n",
        "BURDEN, R.L.; FAIRES, J.D. An´alisis Num´erico, 2\n",
        "a ed. Grupo Editorial Iberoamericano, S.A., 1996.\n"
      ]
    },
    {
      "cell_type": "code",
      "execution_count": null,
      "metadata": {
        "id": "kKSYddj5mSd_"
      },
      "outputs": [],
      "source": []
    },
    {
      "cell_type": "code",
      "execution_count": null,
      "metadata": {
        "id": "kYrqRTzYmSMA"
      },
      "outputs": [],
      "source": []
    }
  ],
  "metadata": {
    "colab": {
      "collapsed_sections": [],
      "name": "Tarea_4_Diferenciación_e_Integración_Numérica_y_Ecuaciones_Diferenciales_Ordinarias.ipynb",
      "provenance": []
    },
    "kernelspec": {
      "display_name": "Python 3",
      "name": "python3"
    },
    "language_info": {
      "name": "python"
    }
  },
  "nbformat": 4,
  "nbformat_minor": 0
}

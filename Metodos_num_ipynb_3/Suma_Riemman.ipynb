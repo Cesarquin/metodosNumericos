{
  "nbformat": 4,
  "nbformat_minor": 0,
  "metadata": {
    "colab": {
      "name": "Metodos_numericos1.ipynb",
      "provenance": []
    },
    "kernelspec": {
      "name": "python3",
      "display_name": "Python 3"
    },
    "language_info": {
      "name": "python"
    }
  },
  "cells": [
    {
      "cell_type": "markdown",
      "metadata": {
        "id": "IJ7IYu7NX89w"
      },
      "source": [
        "# Suma de Riemman\n",
        "\n",
        "~~~\n",
        "A continuación se desarrolla la suma de Riemman por la izquierda, de la siguiente función matemática:\n",
        "~~~\n",
        "$$f(x)=\\frac{1}{3}(x^2)+1$$\n",
        "\n",
        "> en el intervalo [0,4] con n= 4, 10, 25 y 100 particiones. -Guia de actividades.\n",
        "\n",
        "---\n",
        "~~~\n",
        "Nota importante: todas las celdas se deben ejecutar en el orden dado.\n",
        "~~~\n"
      ]
    },
    {
      "cell_type": "markdown",
      "metadata": {
        "id": "P0fRk4eB-zMw"
      },
      "source": [
        "### Se importan las librerias necesarias:"
      ]
    },
    {
      "cell_type": "code",
      "metadata": {
        "id": "UIsvZPCP-0lD"
      },
      "source": [
        "import numpy as np\n",
        "import matplotlib.pyplot as plt\n",
        "import pandas as pd\n",
        "from sympy import Integral\n",
        "from sympy import Symbol\n"
      ],
      "execution_count": 20,
      "outputs": []
    },
    {
      "cell_type": "markdown",
      "metadata": {
        "id": "pZVUchhq_UAO"
      },
      "source": [
        "### El resultado de la integral, es:\n",
        "\n",
        "$$ \\int_{0}^{4} (\\frac{1}{3}(x^2)+1)dx $$"
      ]
    },
    {
      "cell_type": "code",
      "metadata": {
        "colab": {
          "base_uri": "https://localhost:8080/"
        },
        "id": "A8O0XFh5_aQn",
        "outputId": "9f999d4a-cc4d-4979-99b1-75151a78a0d2"
      },
      "source": [
        "x = Symbol('x')\n",
        "fx = (1/3)*(x**2)+1\n",
        "Fx = Integral(fx,(x,0,4)).doit()\n",
        "print(f'El resultado de la integral definida es: {Integral(fx,(x,0,4)).doit()}')\n"
      ],
      "execution_count": 21,
      "outputs": [
        {
          "output_type": "stream",
          "text": [
            "El resultado de la integral definida es: 11.1111111111111\n"
          ],
          "name": "stdout"
        }
      ]
    },
    {
      "cell_type": "markdown",
      "metadata": {
        "id": "Wc9gy1_GAKa4"
      },
      "source": [
        "### Las sumas de Riemman:"
      ]
    },
    {
      "cell_type": "code",
      "metadata": {
        "colab": {
          "base_uri": "https://localhost:8080/",
          "height": 424
        },
        "id": "_IT3dm1GP8EY",
        "outputId": "f0534665-5dfb-4c90-e000-e3f61ebf3a3a"
      },
      "source": [
        "\n",
        "\n",
        "del x\n",
        "f = lambda x : (1/3)*(x**2)+1\n",
        "a = 0; b = 4; \n",
        "N = [4, 10, 25, 100];\n",
        "n = 10 \n",
        "i=1; S=[0,0,0,0,0]; E=S;\n",
        "plt.figure(figsize=(15,5))\n",
        "for N1 in N:\n",
        "  x = np.linspace(a,b,N1+1)\n",
        "  y = f(x)\n",
        "  dx=x[1]-x[0]\n",
        "  S[i]=sum(y)*dx\n",
        "  E[i]= (abs(Fx -S[i])/Fx) * 100\n",
        "\n",
        "  X = np.linspace(a,b,n*N1+1)\n",
        "  Y = f(X)\n",
        "\n",
        "  plt.subplot(1,4,i)\n",
        "  i=i+1;\n",
        "  plt.plot(X,Y,'r') # Figura continua. \n",
        "\n",
        "  x_izq = x[:-1] \n",
        "  y_izq = y[:-1]\n",
        "\n",
        "  plt.plot(x_izq,y_izq,'b.',markersize=10) # gráfica de puntos\n",
        "  plt.bar(x_izq,y_izq,width=(b-a)/N1,alpha=0.2,align='edge',edgecolor='b')\n",
        "  plt.title('Suma de Riemann con N = {}'.format(N1))\n",
        "\n",
        "plt.show()\n",
        "\n",
        "print('|{:10}|{:10}|{:10}|'.format('Partición','Suma','Error (%)'))\n",
        "for i in range(1,5):\n",
        "  print('|{:10}|{:10.4f}|{:10.4f}|'.format(N[i-1],S[i],E[i]))"
      ],
      "execution_count": 48,
      "outputs": [
        {
          "output_type": "display_data",
          "data": {
            "image/png": "[encoded data removed]",
            "text/plain": [
              "<Figure size 1080x360 with 4 Axes>"
            ]
          },
          "metadata": {
            "tags": [],
            "needs_background": "light"
          }
        },
        {
          "output_type": "stream",
          "text": [
            "|Partición |Suma      |Error (%) |\n",
            "|         4|   35.0000|   35.0000|\n",
            "|        10|   13.5200|   13.5200|\n",
            "|        25|    5.3312|    5.3312|\n",
            "|       100|    1.3232|    1.3232|\n"
          ],
          "name": "stdout"
        }
      ]
    },
    {
      "cell_type": "markdown",
      "metadata": {
        "id": "bVzQiTdHvarp"
      },
      "source": [
        "### ¿Cuántas particiones requerirá para obtener un error relativo porcentual menor que 0.001?\n",
        "\n",
        "Se ejecuta un programa que tiende a encontrar el número de particiones:"
      ]
    },
    {
      "cell_type": "code",
      "metadata": {
        "id": "_MOpS0SXQjRL",
        "colab": {
          "base_uri": "https://localhost:8080/"
        },
        "outputId": "61a9a423-35de-4262-83e4-bca953be1b46"
      },
      "source": [
        "f = lambda x : (1/3)*(x**2)+1\n",
        "j=100; e = E[4]\n",
        "while e>0.1:\n",
        "  x = np.linspace(a,b,j)\n",
        "  y = f(x)\n",
        "  dx = x[1] - x[0]\n",
        "  e = (abs(Fx -(sum(y)*dx))/Fx) * 100\n",
        "  j = j + 10\n",
        "\n",
        "print('El número de particiones es ',j)\n"
      ],
      "execution_count": 52,
      "outputs": [
        {
          "output_type": "stream",
          "text": [
            "El número de particiones es  1340\n"
          ],
          "name": "stdout"
        }
      ]
    },
    {
      "cell_type": "code",
      "metadata": {
        "id": "GhFuHFm20vnc"
      },
      "source": [
        ""
      ],
      "execution_count": 50,
      "outputs": []
    },
    {
      "cell_type": "code",
      "metadata": {
        "id": "VaMzxcI7HtYe"
      },
      "source": [
        ""
      ],
      "execution_count": null,
      "outputs": []
    }
  ]
}